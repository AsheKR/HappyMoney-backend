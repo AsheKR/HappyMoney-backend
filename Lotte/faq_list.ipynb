{
 "cells": [
  {
   "cell_type": "code",
   "execution_count": 1,
   "metadata": {},
   "outputs": [],
   "source": [
    "from bs4 import BeautifulSoup\n",
    "import requests\n",
    "from selenium import webdriver"
   ]
  },
  {
   "cell_type": "code",
   "execution_count": 2,
   "metadata": {},
   "outputs": [],
   "source": [
    "driver = webdriver.Chrome('../.dev/bin/chromedriver')"
   ]
  },
  {
   "cell_type": "code",
   "execution_count": 3,
   "metadata": {},
   "outputs": [],
   "source": [
    "url = 'http://www.happymoney.co.kr/svc/customer/faqList.hm#quick'\n",
    "driver.get(url)"
   ]
  },
  {
   "cell_type": "code",
   "execution_count": 42,
   "metadata": {},
   "outputs": [
    {
     "name": "stdout",
     "output_type": "stream",
     "text": [
      "이벤트\n",
      "개인정보관련\n",
      "게임\n",
      "이벤트\n",
      "무료충전소\n",
      "이벤트\n",
      "이벤트\n",
      "이벤트\n",
      "개인정보관련\n",
      "게임\n",
      "이벤트\n",
      "무료충전소\n",
      "이벤트\n",
      "이벤트\n"
     ]
    }
   ],
   "source": [
    "before_page = 0\n",
    "after_page = 0\n",
    "\n",
    "while True:\n",
    "    elem = driver.find_element_by_css_selector('ul.FAQList.js-faq')\n",
    "    html = elem.get_attribute('innerHTML')\n",
    "    soup = BeautifulSoup(html, 'html.parser')\n",
    "    \n",
    "    faq_lists = soup.select('li')\n",
    "    for faq in faq_lists:\n",
    "        category = faq.select_one('span.cate').getText()\n",
    "        title = faq.select_one('strong.question > a').getText()\n",
    "        answer = str(faq.select_one('.answer > div.inAnswer'))\n",
    "        \n",
    "        print(category)\n",
    "    \n",
    "    button = driver.find_element_by_xpath('//div[@id=\"getListPageNavi\"]/strong/following-sibling::a')\n",
    "    before_page = button.get_attribute('innerHTML')\n",
    "    button.click()\n",
    "    \n",
    "    if before_page == after_page:\n",
    "        break\n",
    "    \n",
    "    after_page = before_page"
   ]
  },
  {
   "cell_type": "code",
   "execution_count": 38,
   "metadata": {},
   "outputs": [],
   "source": []
  },
  {
   "cell_type": "code",
   "execution_count": null,
   "metadata": {},
   "outputs": [],
   "source": []
  }
 ],
 "metadata": {
  "kernelspec": {
   "display_name": "Python 3",
   "language": "python",
   "name": "python3"
  },
  "language_info": {
   "codemirror_mode": {
    "name": "ipython",
    "version": 3
   },
   "file_extension": ".py",
   "mimetype": "text/x-python",
   "name": "python",
   "nbconvert_exporter": "python",
   "pygments_lexer": "ipython3",
   "version": "3.6.6"
  }
 },
 "nbformat": 4,
 "nbformat_minor": 2
}
