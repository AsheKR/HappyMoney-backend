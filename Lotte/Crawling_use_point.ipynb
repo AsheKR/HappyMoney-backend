{
 "cells": [
  {
   "cell_type": "code",
   "execution_count": 1,
   "metadata": {},
   "outputs": [],
   "source": [
    "import requests"
   ]
  },
  {
   "cell_type": "code",
   "execution_count": 2,
   "metadata": {},
   "outputs": [],
   "source": [
    "url = 'http://www.happymoney.co.kr/svc/store/offlineStore.hm#quick'"
   ]
  },
  {
   "cell_type": "code",
   "execution_count": 3,
   "metadata": {},
   "outputs": [],
   "source": [
    "from bs4 import BeautifulSoup"
   ]
  },
  {
   "cell_type": "code",
   "execution_count": 4,
   "metadata": {},
   "outputs": [],
   "source": [
    "from selenium import webdriver\n",
    "from selenium.common.exceptions import NoSuchElementException"
   ]
  },
  {
   "cell_type": "code",
   "execution_count": null,
   "metadata": {},
   "outputs": [],
   "source": [
    "options = webdriver.ChromeOptions()\n",
    "options.add_argument('headless')\n",
    "options.add_argument('window-size=1920x1080')\n",
    "options.add_argument(\"disable-gpu\")\n",
    "options.add_argument(\"user-agent=Mozilla/5.0 (Macintosh; Intel Mac OS X 10_12_6) AppleWebKit/537.36 (KHTML, like Gecko) Chrome/61.0.3163.100 Safari/537.36\")\n",
    "options.add_argument(\"lang=ko_KR\")"
   ]
  },
  {
   "cell_type": "code",
   "execution_count": 5,
   "metadata": {},
   "outputs": [],
   "source": [
    "driver = webdriver.Chrome('../.dev/bin/chromedriver')"
   ]
  },
  {
   "cell_type": "code",
   "execution_count": null,
   "metadata": {},
   "outputs": [],
   "source": [
    "driver.get(url)"
   ]
  },
  {
   "cell_type": "code",
   "execution_count": null,
   "metadata": {},
   "outputs": [],
   "source": [
    "while True:\n",
    "    try:\n",
    "        btn = driver.find_element_by_css_selector('button.btnMore.js-more')\n",
    "        btn.click()\n",
    "    except NoSuchElementException:\n",
    "        break"
   ]
  },
  {
   "cell_type": "code",
   "execution_count": null,
   "metadata": {},
   "outputs": [],
   "source": [
    "elem = driver.find_element_by_css_selector('ul.imgListWrap')"
   ]
  },
  {
   "cell_type": "code",
   "execution_count": null,
   "metadata": {},
   "outputs": [],
   "source": [
    "html = elem.get_attribute('innerHTML')"
   ]
  },
  {
   "cell_type": "code",
   "execution_count": null,
   "metadata": {},
   "outputs": [],
   "source": [
    "soup = BeautifulSoup(html, 'html.parser')"
   ]
  },
  {
   "cell_type": "code",
   "execution_count": null,
   "metadata": {},
   "outputs": [],
   "source": [
    "item_lists = soup.findChildren('li')"
   ]
  },
  {
   "cell_type": "code",
   "execution_count": null,
   "metadata": {},
   "outputs": [],
   "source": [
    "import os"
   ]
  },
  {
   "cell_type": "code",
   "execution_count": null,
   "metadata": {},
   "outputs": [],
   "source": [
    "curdir = os.path.abspath(os.path.curdir)\n",
    "imgdir = os.path.join(curdir, 'site-images')\n",
    "jsonfile = os.path.join(curdir, 'sites.json')"
   ]
  },
  {
   "cell_type": "code",
   "execution_count": null,
   "metadata": {},
   "outputs": [],
   "source": [
    "if not os.path.isdir(imgdir):\n",
    "    os.mkdir(imgdir)"
   ]
  },
  {
   "cell_type": "code",
   "execution_count": null,
   "metadata": {},
   "outputs": [],
   "source": [
    "import re"
   ]
  },
  {
   "cell_type": "code",
   "execution_count": null,
   "metadata": {
    "scrolled": true
   },
   "outputs": [],
   "source": [
    "# 온라인점 크롤링\n",
    "\n",
    "ignorecase = re.compile(r'\\w+/useStore/(.*)', re.IGNORECASE)\n",
    "regex_import_store_number = re.compile(r\"'(\\w+)'\")\n",
    "regex_import_site_url = re.compile(r\"'(http.*)',\")\n",
    "\n",
    "import_store_number = 0\n",
    "import_url_front = f\"http://www.happymoney.co.kr/svc/store/useStoreView.hm?useStoreInfoId=\"\n",
    "import_url_back = \"&pageLink=store/offlineStore.hm\"\n",
    "\n",
    "for item in item_lists:\n",
    "    img_url = item.select_one('img')['src']\n",
    "    \n",
    "    img_name = ignorecase.search(img_url).group(1)\n",
    "    \n",
    "    r = requests.get(img_url)\n",
    "    img_path = os.path.join(imgdir, img_name)\n",
    "    print(img_path)\n",
    "\n",
    "    if r.status_code == 200:\n",
    "        with open(img_path, 'wb') as f:\n",
    "            f.write(r.content)\n",
    "    \n",
    "    site_name = item.select_one('div.info > a').get_text()\n",
    "    category = (item.select_one('div.info > span').get_text() + '/').split('/')[0]\n",
    "    is_fee = True if item.select_one('strong.ir.ico.feesIcon') else False\n",
    "    is_import_point = True if item.select_one('strong.ir.ico.storeLab') else False\n",
    "    month_pay_limit = 0\n",
    "    # 입점몰의 site_url은 다른 사이트의 iframe을 요구하기때문에 구현하지 않는다.\n",
    "    site_url = ''\n",
    "    \n",
    "    if is_import_point:\n",
    "        import_store_number = regex_import_store_number.search(item.select_one('div.info > a')['onclick']).group(1)\n",
    "        url = import_url_front + import_store_number + import_url_back\n",
    "        driver.get(url)\n",
    "        month_pay_limit = driver.find_element_by_css_selector('span#paymentMonthLimit').text\n",
    "    else:\n",
    "        site_url = item.select_one('span.btn > a')['href']\n",
    "    "
   ]
  },
  {
   "cell_type": "code",
   "execution_count": null,
   "metadata": {},
   "outputs": [],
   "source": []
  }
 ],
 "metadata": {
  "kernelspec": {
   "display_name": "Python 3",
   "language": "python",
   "name": "python3"
  },
  "language_info": {
   "codemirror_mode": {
    "name": "ipython",
    "version": 3
   },
   "file_extension": ".py",
   "mimetype": "text/x-python",
   "name": "python",
   "nbconvert_exporter": "python",
   "pygments_lexer": "ipython3",
   "version": "3.6.6"
  }
 },
 "nbformat": 4,
 "nbformat_minor": 2
}
