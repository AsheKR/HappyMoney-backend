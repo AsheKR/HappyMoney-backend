{
 "cells": [
  {
   "cell_type": "code",
   "execution_count": 1,
   "metadata": {},
   "outputs": [],
   "source": [
    "from bs4 import BeautifulSoup\n",
    "import requests\n",
    "from selenium import webdriver"
   ]
  },
  {
   "cell_type": "code",
   "execution_count": 2,
   "metadata": {},
   "outputs": [],
   "source": [
    "driver = webdriver.Chrome('../.dev/bin/chromedriver')"
   ]
  },
  {
   "cell_type": "code",
   "execution_count": 3,
   "metadata": {},
   "outputs": [],
   "source": [
    "url = 'http://www.happymoney.co.kr/svc/customer/faqList.hm'"
   ]
  },
  {
   "cell_type": "code",
   "execution_count": 4,
   "metadata": {},
   "outputs": [],
   "source": [
    "driver.get(url)"
   ]
  },
  {
   "cell_type": "code",
   "execution_count": 5,
   "metadata": {},
   "outputs": [],
   "source": [
    "elem = driver.find_element_by_css_selector('li.cateList')\n",
    "html = elem.get_attribute('innerHTML')\n",
    "soup = BeautifulSoup(html, 'html.parser')"
   ]
  },
  {
   "cell_type": "code",
   "execution_count": 15,
   "metadata": {},
   "outputs": [],
   "source": [
    "divs = soup.select('div.checkWrap')[1:]"
   ]
  },
  {
   "cell_type": "code",
   "execution_count": 18,
   "metadata": {},
   "outputs": [
    {
     "name": "stdout",
     "output_type": "stream",
     "text": [
      "----해피캐시----\n",
      "충전방법\n",
      "충전취소\n",
      "유효기간\n",
      "캐시사용\n",
      "잔액환불\n",
      "간편충전\n",
      "결제실패\n",
      "결제오류\n",
      "----사용처----\n",
      "오프라인사용처\n",
      "쇼핑몰\n",
      "게임\n",
      "도서\n",
      "예약/예매/음악/P2P\n",
      "모바일사용처\n",
      "제휴상품몰\n",
      "결제관련\n",
      "----상품권교환소----\n",
      "온라인상품권 교환쿠폰사용\n",
      "쿠폰교환후 미사용상품권\n",
      "쿠폰 오프라인 사용방법\n",
      "쿠폰 유효기간\n",
      "쿠폰 구매취소\n",
      "쿠폰 교환오류\n",
      "교환소 이용한도\n",
      "----보안서비스----\n",
      "결제비밀번호\n",
      "아이디자동잠금\n",
      "캐시잠금서비스\n",
      "사용처제한\n",
      "키보드보안프로그램\n",
      "접속차단\n",
      "----회원정보----\n",
      "아이디/비밀번호\n",
      "회원정보수정\n",
      "아이디잠금\n",
      "회원가입\n",
      "휴면계정\n",
      "회원탈퇴\n",
      "회원등급\n",
      "개인정보관련\n",
      "----상품권----\n",
      "상품권사용방법\n",
      "상품권사용여부/잔액확인/환불\n",
      "상품권유효기간\n",
      "상품권교환\n",
      "상품권구매\n",
      "상품권배송/재발송\n",
      "상품권구매취소/환불\n",
      "----Google Play 기프트코드----\n",
      "구매/재발송\n",
      "사용\n",
      "----이벤트/혜택----\n",
      "이벤트\n",
      "등급별혜택/쿠폰\n",
      "해머\n",
      "무료충전소\n",
      "행복나눔기부\n"
     ]
    }
   ],
   "source": [
    "for div in divs:\n",
    "    subs = div.select('div > span.checkboxWrap')[1:]\n",
    "    label = div.select_one('div > h4').getText()\n",
    "    print('----' + label + '----')\n",
    "    for sub in subs:\n",
    "        sub_label = sub.select_one('label').getText()\n",
    "        print(sub_label)"
   ]
  },
  {
   "cell_type": "code",
   "execution_count": null,
   "metadata": {},
   "outputs": [],
   "source": []
  }
 ],
 "metadata": {
  "kernelspec": {
   "display_name": "Python 3",
   "language": "python",
   "name": "python3"
  },
  "language_info": {
   "codemirror_mode": {
    "name": "ipython",
    "version": 3
   },
   "file_extension": ".py",
   "mimetype": "text/x-python",
   "name": "python",
   "nbconvert_exporter": "python",
   "pygments_lexer": "ipython3",
   "version": "3.6.6"
  }
 },
 "nbformat": 4,
 "nbformat_minor": 2
}
