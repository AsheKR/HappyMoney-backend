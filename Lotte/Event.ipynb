{
 "cells": [
  {
   "cell_type": "code",
   "execution_count": 15,
   "metadata": {},
   "outputs": [],
   "source": [
    "from bs4 import BeautifulSoup\n",
    "import requests\n",
    "from selenium import webdriver\n",
    "import datetime "
   ]
  },
  {
   "cell_type": "code",
   "execution_count": 16,
   "metadata": {},
   "outputs": [],
   "source": [
    "url = \"http://www.happymoney.co.kr/svc/event/m6001L.hm?category=\""
   ]
  },
  {
   "cell_type": "code",
   "execution_count": 17,
   "metadata": {},
   "outputs": [],
   "source": [
    "driver = webdriver.Chrome('../.dev/bin/chromedriver')"
   ]
  },
  {
   "cell_type": "code",
   "execution_count": 18,
   "metadata": {},
   "outputs": [],
   "source": [
    "category_list = [1,2,3,4,5,8,61]"
   ]
  },
  {
   "cell_type": "code",
   "execution_count": null,
   "metadata": {},
   "outputs": [],
   "source": [
    "datas = []\n",
    "base_url = \"http://www.happymoney.co.kr\"\n",
    "\n",
    "for i in category_list:\n",
    "    driver.get(url+str(i))\n",
    "    \n",
    "    elem = driver.find_element_by_css_selector('#tableList')\n",
    "    html = elem.get_attribute('innerHTML')\n",
    "    soup = BeautifulSoup(html, 'html.parser')\n",
    "\n",
    "    elist = soup.select('li')\n",
    "\n",
    "    for e in elist:\n",
    "        detail_page = e.select_one('a')['href']\n",
    "        \n",
    "        res = requests.get(base_url + detail_page)\n",
    "        if res.status_code == 200:\n",
    "            driver.get(base_url + detail_page)\n",
    "        \n",
    "        general_image = e.select_one('img')['src']\n",
    "        tag = e.select_one('span.label').getText()\n",
    "        title = e.select_one('strong.name').getText()\n",
    "        start, end = e.select_one('span.date').getText().split('~ ')\n",
    "        start = datetime.datetime.strptime(start.split('(')[0], '%Y-%m-%d')\n",
    "        end = datetime.datetime.strptime(end.split('(')[0], '%Y-%m-%d')\n",
    "        \n",
    "        "
   ]
  },
  {
   "cell_type": "code",
   "execution_count": null,
   "metadata": {},
   "outputs": [],
   "source": []
  }
 ],
 "metadata": {
  "kernelspec": {
   "display_name": "Python 3",
   "language": "python",
   "name": "python3"
  },
  "language_info": {
   "codemirror_mode": {
    "name": "ipython",
    "version": 3
   },
   "file_extension": ".py",
   "mimetype": "text/x-python",
   "name": "python",
   "nbconvert_exporter": "python",
   "pygments_lexer": "ipython3",
   "version": "3.6.6"
  }
 },
 "nbformat": 4,
 "nbformat_minor": 2
}
