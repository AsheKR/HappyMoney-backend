{
 "cells": [
  {
   "cell_type": "code",
   "execution_count": 1,
   "metadata": {},
   "outputs": [],
   "source": [
    "from bs4 import BeautifulSoup\n",
    "import requests"
   ]
  },
  {
   "cell_type": "code",
   "execution_count": 2,
   "metadata": {},
   "outputs": [],
   "source": [
    "url = \"http://www.happymoney.co.kr/svc/shopping/allianceList.hm#quick\""
   ]
  },
  {
   "cell_type": "code",
   "execution_count": 12,
   "metadata": {},
   "outputs": [],
   "source": [
    "from selenium import webdriver"
   ]
  },
  {
   "cell_type": "code",
   "execution_count": 13,
   "metadata": {},
   "outputs": [],
   "source": [
    "driver = webdriver.Chrome('../.dev/bin/chromedriver')"
   ]
  },
  {
   "cell_type": "code",
   "execution_count": 14,
   "metadata": {},
   "outputs": [],
   "source": [
    "driver.get(url)"
   ]
  },
  {
   "cell_type": "code",
   "execution_count": 15,
   "metadata": {},
   "outputs": [],
   "source": [
    "elem = driver.find_element_by_css_selector('#tmpl')\n",
    "html = elem.get_attribute('innerHTML')\n",
    "soup = BeautifulSoup(html, 'html.parser')"
   ]
  },
  {
   "cell_type": "code",
   "execution_count": 19,
   "metadata": {},
   "outputs": [],
   "source": [
    "row_list = soup.select('.bx-viewport')"
   ]
  },
  {
   "cell_type": "code",
   "execution_count": 39,
   "metadata": {},
   "outputs": [],
   "source": [
    "col_list = []\n",
    "for row in row_list:\n",
    "    for col in row.findAll('li'):\n",
    "        col_list.append(col)"
   ]
  },
  {
   "cell_type": "code",
   "execution_count": 43,
   "metadata": {},
   "outputs": [
    {
     "name": "stdout",
     "output_type": "stream",
     "text": [
      "교보문고 5,000\n",
      "교보문고 10,000\n",
      "CGV기프트카드 10,000\n",
      "CGV기프트카드 30,000\n",
      "CGV기프트카드 50,000\n",
      "올리브영 10,000\n",
      "올리브영 30,000\n",
      "올리브영 50,000\n",
      "CJ온마트 10,000\n",
      "CJ온마트 30,000\n",
      "CJ온마트 50,000\n",
      "티몬캐쉬 10,000\n",
      "티몬캐쉬 30,000\n",
      "티몬캐쉬 50,000\n",
      "CJ기프트카드 10,000\n",
      "CJ기프트카드 30,000\n",
      "CJ기프트카드 50,000\n",
      "FUN-CON 5,000\n",
      "FUN-CON 10,000\n",
      "FUN-CON 20,000\n",
      "FUN-CON 30,000\n",
      "데이터소다(SKT/KT/U+) 2,000\n",
      "데이터소다(SKT/KT/U+) 10,000\n",
      "데이터소다(SKT/KT/U+) 15,000\n",
      "데이터소다(SKT/KT/U+) 33,000\n",
      "T데이터쿠폰 10,000\n",
      "T데이터쿠폰 15,000\n",
      "T데이터쿠폰 19,000\n",
      "T데이터쿠폰 33,000\n",
      "T데이터쿠폰 2,000\n",
      "T데이터쿠폰 10,000\n",
      "T데이터쿠폰 15,000\n",
      "T데이터쿠폰 19,000\n",
      "T데이터쿠폰 33,000\n",
      "T데이터쿠폰 2,000\n",
      "T데이터쿠폰 10,000\n",
      "T데이터쿠폰 15,000\n",
      "T데이터쿠폰 19,000\n",
      "탐앤탐스 10,000\n",
      "탐앤탐스 20,000\n",
      "탐앤탐스 30,000\n",
      "탐앤탐스 50,000\n",
      "스무디킹 5,000\n",
      "스무디킹 10,000\n",
      "스무디킹 20,000\n",
      "BHC 3,000\n",
      "BHC 5,000\n",
      "BHC 10,000\n",
      "놀숲 10,000\n",
      "놀숲 20,000\n",
      "놀숲 30,000\n",
      "이마트24 3,090\n",
      "이마트24 5,150\n",
      "이마트24 10,300\n",
      "이마트24 30,900\n",
      "무스쿠스 20,000\n",
      "무스쿠스 30,000\n",
      "무스쿠스 50,000\n",
      "무스쿠스 100,000\n",
      "무스쿠스 10,000\n",
      "무스쿠스 20,000\n",
      "무스쿠스 30,000\n",
      "무스쿠스 50,000\n",
      "무스쿠스 100,000\n",
      "무스쿠스 10,000\n",
      "무스쿠스 20,000\n",
      "무스쿠스 30,000\n",
      "무스쿠스 50,000\n",
      "니뽕내뽕 5,000\n",
      "니뽕내뽕 10,000\n",
      "니뽕내뽕 20,000\n",
      "니뽕내뽕 50,000\n",
      "스시노백쉐프 30,000\n",
      "스시노백쉐프 50,000\n",
      "스시노백쉐프 70,000\n",
      "쉐프의부대찌개 10,000\n",
      "쉐프의부대찌개 20,000\n"
     ]
    }
   ],
   "source": [
    "for col in col_list:\n",
    "    img_tag = col.select_one('img')\n",
    "    if img_tag is None:\n",
    "        continue\n",
    "    img_src = img_tag['src']\n",
    "    site_name = col.select_one('h4').getText().split(' ')[0]\n",
    "    amount = col.select_one('strong').getText()\n",
    "    \n",
    "    print(site_name, amount)"
   ]
  },
  {
   "cell_type": "code",
   "execution_count": null,
   "metadata": {},
   "outputs": [],
   "source": []
  }
 ],
 "metadata": {
  "kernelspec": {
   "display_name": "Python 3",
   "language": "python",
   "name": "python3"
  },
  "language_info": {
   "codemirror_mode": {
    "name": "ipython",
    "version": 3
   },
   "file_extension": ".py",
   "mimetype": "text/x-python",
   "name": "python",
   "nbconvert_exporter": "python",
   "pygments_lexer": "ipython3",
   "version": "3.6.6"
  }
 },
 "nbformat": 4,
 "nbformat_minor": 2
}
